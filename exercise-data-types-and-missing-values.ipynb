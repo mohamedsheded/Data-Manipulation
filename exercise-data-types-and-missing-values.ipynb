{
 "cells": [
  {
   "cell_type": "markdown",
   "id": "6b4e20a7",
   "metadata": {
    "papermill": {
     "duration": 0.005741,
     "end_time": "2022-06-29T13:13:26.795792",
     "exception": false,
     "start_time": "2022-06-29T13:13:26.790051",
     "status": "completed"
    },
    "tags": []
   },
   "source": [
    "**This notebook is an exercise in the [Pandas](https://www.kaggle.com/learn/pandas) course.  You can reference the tutorial at [this link](https://www.kaggle.com/residentmario/data-types-and-missing-values).**\n",
    "\n",
    "---\n"
   ]
  },
  {
   "cell_type": "markdown",
   "id": "1ad3b4df",
   "metadata": {
    "papermill": {
     "duration": 0.00432,
     "end_time": "2022-06-29T13:13:26.804963",
     "exception": false,
     "start_time": "2022-06-29T13:13:26.800643",
     "status": "completed"
    },
    "tags": []
   },
   "source": [
    "# Introduction\n",
    "\n",
    "Run the following cell to load your data and some utility functions."
   ]
  },
  {
   "cell_type": "code",
   "execution_count": 1,
   "id": "38467d61",
   "metadata": {
    "execution": {
     "iopub.execute_input": "2022-06-29T13:13:26.817044Z",
     "iopub.status.busy": "2022-06-29T13:13:26.816161Z",
     "iopub.status.idle": "2022-06-29T13:13:30.042783Z",
     "shell.execute_reply": "2022-06-29T13:13:30.041246Z"
    },
    "papermill": {
     "duration": 3.235985,
     "end_time": "2022-06-29T13:13:30.045598",
     "exception": false,
     "start_time": "2022-06-29T13:13:26.809613",
     "status": "completed"
    },
    "tags": []
   },
   "outputs": [
    {
     "name": "stdout",
     "output_type": "stream",
     "text": [
      "Setup complete.\n"
     ]
    }
   ],
   "source": [
    "import pandas as pd\n",
    "\n",
    "reviews = pd.read_csv(\"../input/wine-reviews/winemag-data-130k-v2.csv\", index_col=0)\n",
    "\n",
    "from learntools.core import binder; binder.bind(globals())\n",
    "from learntools.pandas.data_types_and_missing_data import *\n",
    "print(\"Setup complete.\")"
   ]
  },
  {
   "cell_type": "markdown",
   "id": "693ae8a3",
   "metadata": {
    "papermill": {
     "duration": 0.004656,
     "end_time": "2022-06-29T13:13:30.055253",
     "exception": false,
     "start_time": "2022-06-29T13:13:30.050597",
     "status": "completed"
    },
    "tags": []
   },
   "source": [
    "# Exercises"
   ]
  },
  {
   "cell_type": "markdown",
   "id": "db4ca7d4",
   "metadata": {
    "papermill": {
     "duration": 0.004696,
     "end_time": "2022-06-29T13:13:30.064975",
     "exception": false,
     "start_time": "2022-06-29T13:13:30.060279",
     "status": "completed"
    },
    "tags": []
   },
   "source": [
    "## 1. \n",
    "What is the data type of the `points` column in the dataset?"
   ]
  },
  {
   "cell_type": "code",
   "execution_count": 2,
   "id": "e6c63a24",
   "metadata": {
    "execution": {
     "iopub.execute_input": "2022-06-29T13:13:30.076275Z",
     "iopub.status.busy": "2022-06-29T13:13:30.075904Z",
     "iopub.status.idle": "2022-06-29T13:13:30.089527Z",
     "shell.execute_reply": "2022-06-29T13:13:30.088170Z"
    },
    "papermill": {
     "duration": 0.02179,
     "end_time": "2022-06-29T13:13:30.091602",
     "exception": false,
     "start_time": "2022-06-29T13:13:30.069812",
     "status": "completed"
    },
    "tags": []
   },
   "outputs": [
    {
     "data": {
      "application/javascript": [
       "parent.postMessage({\"jupyterEvent\": \"custom.exercise_interaction\", \"data\": {\"outcomeType\": 1, \"valueTowardsCompletion\": 0.25, \"interactionType\": 1, \"questionType\": 1, \"questionId\": \"1_PointsDtype\", \"learnToolsVersion\": \"0.3.4\", \"failureMessage\": \"\", \"exceptionClass\": \"\", \"trace\": \"\"}}, \"*\")"
      ],
      "text/plain": [
       "<IPython.core.display.Javascript object>"
      ]
     },
     "metadata": {},
     "output_type": "display_data"
    },
    {
     "data": {
      "text/markdown": [
       "<span style=\"color:#33cc33\">Correct</span>"
      ],
      "text/plain": [
       "Correct"
      ]
     },
     "metadata": {},
     "output_type": "display_data"
    }
   ],
   "source": [
    "# Your code here\n",
    "dtype = reviews.points.dtype\n",
    "\n",
    "# Check your answer\n",
    "q1.check()"
   ]
  },
  {
   "cell_type": "code",
   "execution_count": 3,
   "id": "2843fe35",
   "metadata": {
    "execution": {
     "iopub.execute_input": "2022-06-29T13:13:30.104352Z",
     "iopub.status.busy": "2022-06-29T13:13:30.103600Z",
     "iopub.status.idle": "2022-06-29T13:13:30.108832Z",
     "shell.execute_reply": "2022-06-29T13:13:30.107560Z"
    },
    "papermill": {
     "duration": 0.014604,
     "end_time": "2022-06-29T13:13:30.111428",
     "exception": false,
     "start_time": "2022-06-29T13:13:30.096824",
     "status": "completed"
    },
    "tags": []
   },
   "outputs": [],
   "source": [
    "#q1.hint()\n",
    "#q1.solution()"
   ]
  },
  {
   "cell_type": "markdown",
   "id": "860c4109",
   "metadata": {
    "papermill": {
     "duration": 0.00481,
     "end_time": "2022-06-29T13:13:30.121442",
     "exception": false,
     "start_time": "2022-06-29T13:13:30.116632",
     "status": "completed"
    },
    "tags": []
   },
   "source": [
    "## 2. \n",
    "Create a Series from entries in the `points` column, but convert the entries to strings. Hint: strings are `str` in native Python."
   ]
  },
  {
   "cell_type": "code",
   "execution_count": 4,
   "id": "3d016468",
   "metadata": {
    "execution": {
     "iopub.execute_input": "2022-06-29T13:13:30.134999Z",
     "iopub.status.busy": "2022-06-29T13:13:30.134153Z",
     "iopub.status.idle": "2022-06-29T13:13:30.279194Z",
     "shell.execute_reply": "2022-06-29T13:13:30.278055Z"
    },
    "papermill": {
     "duration": 0.154897,
     "end_time": "2022-06-29T13:13:30.281595",
     "exception": false,
     "start_time": "2022-06-29T13:13:30.126698",
     "status": "completed"
    },
    "tags": []
   },
   "outputs": [
    {
     "data": {
      "application/javascript": [
       "parent.postMessage({\"jupyterEvent\": \"custom.exercise_interaction\", \"data\": {\"outcomeType\": 1, \"valueTowardsCompletion\": 0.25, \"interactionType\": 1, \"questionType\": 1, \"questionId\": \"2_StrPoints\", \"learnToolsVersion\": \"0.3.4\", \"failureMessage\": \"\", \"exceptionClass\": \"\", \"trace\": \"\"}}, \"*\")"
      ],
      "text/plain": [
       "<IPython.core.display.Javascript object>"
      ]
     },
     "metadata": {},
     "output_type": "display_data"
    },
    {
     "data": {
      "text/markdown": [
       "<span style=\"color:#33cc33\">Correct</span>"
      ],
      "text/plain": [
       "Correct"
      ]
     },
     "metadata": {},
     "output_type": "display_data"
    }
   ],
   "source": [
    "point_strings = reviews.points.astype('str')\n",
    "\n",
    "# Check your answer\n",
    "q2.check()"
   ]
  },
  {
   "cell_type": "code",
   "execution_count": 5,
   "id": "02f33fd7",
   "metadata": {
    "execution": {
     "iopub.execute_input": "2022-06-29T13:13:30.295397Z",
     "iopub.status.busy": "2022-06-29T13:13:30.294556Z",
     "iopub.status.idle": "2022-06-29T13:13:30.299298Z",
     "shell.execute_reply": "2022-06-29T13:13:30.298474Z"
    },
    "papermill": {
     "duration": 0.014483,
     "end_time": "2022-06-29T13:13:30.301653",
     "exception": false,
     "start_time": "2022-06-29T13:13:30.287170",
     "status": "completed"
    },
    "tags": []
   },
   "outputs": [],
   "source": [
    "#q2.hint()\n",
    "#q2.solution()"
   ]
  },
  {
   "cell_type": "markdown",
   "id": "73cce242",
   "metadata": {
    "papermill": {
     "duration": 0.005447,
     "end_time": "2022-06-29T13:13:30.313794",
     "exception": false,
     "start_time": "2022-06-29T13:13:30.308347",
     "status": "completed"
    },
    "tags": []
   },
   "source": [
    "## 3.\n",
    "Sometimes the price column is null. How many reviews in the dataset are missing a price?"
   ]
  },
  {
   "cell_type": "code",
   "execution_count": 6,
   "id": "c1c2d25b",
   "metadata": {
    "execution": {
     "iopub.execute_input": "2022-06-29T13:13:30.327027Z",
     "iopub.status.busy": "2022-06-29T13:13:30.326606Z",
     "iopub.status.idle": "2022-06-29T13:13:30.337482Z",
     "shell.execute_reply": "2022-06-29T13:13:30.336528Z"
    },
    "papermill": {
     "duration": 0.020177,
     "end_time": "2022-06-29T13:13:30.339601",
     "exception": false,
     "start_time": "2022-06-29T13:13:30.319424",
     "status": "completed"
    },
    "tags": []
   },
   "outputs": [
    {
     "data": {
      "application/javascript": [
       "parent.postMessage({\"jupyterEvent\": \"custom.exercise_interaction\", \"data\": {\"outcomeType\": 1, \"valueTowardsCompletion\": 0.25, \"interactionType\": 1, \"questionType\": 1, \"questionId\": \"3_CountMissingPrices\", \"learnToolsVersion\": \"0.3.4\", \"failureMessage\": \"\", \"exceptionClass\": \"\", \"trace\": \"\"}}, \"*\")"
      ],
      "text/plain": [
       "<IPython.core.display.Javascript object>"
      ]
     },
     "metadata": {},
     "output_type": "display_data"
    },
    {
     "data": {
      "text/markdown": [
       "<span style=\"color:#33cc33\">Correct</span>"
      ],
      "text/plain": [
       "Correct"
      ]
     },
     "metadata": {},
     "output_type": "display_data"
    }
   ],
   "source": [
    "#n_missing_prices = len(missing_price_reviews)\n",
    "\n",
    "# Cute alternative solution: if we sum a boolean series, True is treated as 1 and False as 0\n",
    "#n_missing_prices = reviews.price.isnull().sum()\n",
    "\n",
    "# or equivalently:\n",
    "#n_missing_prices = pd.isnull(reviews.price).sum()\n",
    "n_missing_prices = pd.isnull(reviews['price']).sum()\n",
    "\n",
    "#missing_price_reviews = reviews[reviews.price.isnull()].sum()\n",
    "\n",
    "# Check your answer\n",
    "q3.check()"
   ]
  },
  {
   "cell_type": "code",
   "execution_count": 7,
   "id": "3f536753",
   "metadata": {
    "execution": {
     "iopub.execute_input": "2022-06-29T13:13:30.354341Z",
     "iopub.status.busy": "2022-06-29T13:13:30.353659Z",
     "iopub.status.idle": "2022-06-29T13:13:30.357468Z",
     "shell.execute_reply": "2022-06-29T13:13:30.356670Z"
    },
    "papermill": {
     "duration": 0.013886,
     "end_time": "2022-06-29T13:13:30.359532",
     "exception": false,
     "start_time": "2022-06-29T13:13:30.345646",
     "status": "completed"
    },
    "tags": []
   },
   "outputs": [],
   "source": [
    "#q3.hint()\n",
    "#q3.solution()"
   ]
  },
  {
   "cell_type": "markdown",
   "id": "00edf4c3",
   "metadata": {
    "papermill": {
     "duration": 0.005639,
     "end_time": "2022-06-29T13:13:30.371146",
     "exception": false,
     "start_time": "2022-06-29T13:13:30.365507",
     "status": "completed"
    },
    "tags": []
   },
   "source": [
    "## 4.\n",
    "What are the most common wine-producing regions? Create a Series counting the number of times each value occurs in the `region_1` field. This field is often missing data, so replace missing values with `Unknown`. Sort in descending order.  Your output should look something like this:\n",
    "\n",
    "```\n",
    "Unknown                    21247\n",
    "Napa Valley                 4480\n",
    "                           ...  \n",
    "Bardolino Superiore            1\n",
    "Primitivo del Tarantino        1\n",
    "Name: region_1, Length: 1230, dtype: int64\n",
    "```"
   ]
  },
  {
   "cell_type": "code",
   "execution_count": 8,
   "id": "5cabaf17",
   "metadata": {
    "execution": {
     "iopub.execute_input": "2022-06-29T13:13:30.385307Z",
     "iopub.status.busy": "2022-06-29T13:13:30.384609Z",
     "iopub.status.idle": "2022-06-29T13:13:30.461706Z",
     "shell.execute_reply": "2022-06-29T13:13:30.460544Z"
    },
    "papermill": {
     "duration": 0.087155,
     "end_time": "2022-06-29T13:13:30.464188",
     "exception": false,
     "start_time": "2022-06-29T13:13:30.377033",
     "status": "completed"
    },
    "tags": []
   },
   "outputs": [
    {
     "data": {
      "application/javascript": [
       "parent.postMessage({\"jupyterEvent\": \"custom.exercise_interaction\", \"data\": {\"outcomeType\": 1, \"valueTowardsCompletion\": 0.25, \"interactionType\": 1, \"questionType\": 2, \"questionId\": \"4_ReviewsPerRegion\", \"learnToolsVersion\": \"0.3.4\", \"failureMessage\": \"\", \"exceptionClass\": \"\", \"trace\": \"\"}}, \"*\")"
      ],
      "text/plain": [
       "<IPython.core.display.Javascript object>"
      ]
     },
     "metadata": {},
     "output_type": "display_data"
    },
    {
     "data": {
      "text/markdown": [
       "<span style=\"color:#33cc33\">Correct</span>"
      ],
      "text/plain": [
       "Correct"
      ]
     },
     "metadata": {},
     "output_type": "display_data"
    }
   ],
   "source": [
    "reviews_per_region = reviews.region_1.fillna('Unknown').value_counts().sort_values(ascending=False)\n",
    "\n",
    "\n",
    "# Check your answer\n",
    "q4.check()"
   ]
  },
  {
   "cell_type": "code",
   "execution_count": 9,
   "id": "e141ba0e",
   "metadata": {
    "execution": {
     "iopub.execute_input": "2022-06-29T13:13:30.478168Z",
     "iopub.status.busy": "2022-06-29T13:13:30.477783Z",
     "iopub.status.idle": "2022-06-29T13:13:30.488169Z",
     "shell.execute_reply": "2022-06-29T13:13:30.486853Z"
    },
    "papermill": {
     "duration": 0.020353,
     "end_time": "2022-06-29T13:13:30.490665",
     "exception": false,
     "start_time": "2022-06-29T13:13:30.470312",
     "status": "completed"
    },
    "tags": []
   },
   "outputs": [
    {
     "data": {
      "application/javascript": [
       "parent.postMessage({\"jupyterEvent\": \"custom.exercise_interaction\", \"data\": {\"interactionType\": 3, \"questionType\": 2, \"questionId\": \"4_ReviewsPerRegion\", \"learnToolsVersion\": \"0.3.4\", \"valueTowardsCompletion\": 0.0, \"failureMessage\": \"\", \"exceptionClass\": \"\", \"trace\": \"\", \"outcomeType\": 4}}, \"*\")"
      ],
      "text/plain": [
       "<IPython.core.display.Javascript object>"
      ]
     },
     "metadata": {},
     "output_type": "display_data"
    },
    {
     "data": {
      "text/markdown": [
       "<span style=\"color:#33cc99\">Solution:</span> \n",
       "```python\n",
       "reviews_per_region = reviews.region_1.fillna('Unknown').value_counts().sort_values(ascending=False)\n",
       "```"
      ],
      "text/plain": [
       "Solution: \n",
       "```python\n",
       "reviews_per_region = reviews.region_1.fillna('Unknown').value_counts().sort_values(ascending=False)\n",
       "```"
      ]
     },
     "metadata": {},
     "output_type": "display_data"
    }
   ],
   "source": [
    "#q4.hint()\n",
    "q4.solution()"
   ]
  },
  {
   "cell_type": "markdown",
   "id": "9ff9749d",
   "metadata": {
    "papermill": {
     "duration": 0.006036,
     "end_time": "2022-06-29T13:13:30.502937",
     "exception": false,
     "start_time": "2022-06-29T13:13:30.496901",
     "status": "completed"
    },
    "tags": []
   },
   "source": [
    "# Keep going\n",
    "\n",
    "Move on to **[renaming and combining](https://www.kaggle.com/residentmario/renaming-and-combining)**."
   ]
  },
  {
   "cell_type": "markdown",
   "id": "bc80b4f7",
   "metadata": {
    "papermill": {
     "duration": 0.005981,
     "end_time": "2022-06-29T13:13:30.515312",
     "exception": false,
     "start_time": "2022-06-29T13:13:30.509331",
     "status": "completed"
    },
    "tags": []
   },
   "source": [
    "---\n",
    "\n",
    "\n",
    "\n",
    "\n",
    "*Have questions or comments? Visit the [course discussion forum](https://www.kaggle.com/learn/pandas/discussion) to chat with other learners.*"
   ]
  }
 ],
 "metadata": {
  "kernelspec": {
   "display_name": "Python 3",
   "language": "python",
   "name": "python3"
  },
  "language_info": {
   "codemirror_mode": {
    "name": "ipython",
    "version": 3
   },
   "file_extension": ".py",
   "mimetype": "text/x-python",
   "name": "python",
   "nbconvert_exporter": "python",
   "pygments_lexer": "ipython3",
   "version": "3.7.12"
  },
  "papermill": {
   "default_parameters": {},
   "duration": 15.401245,
   "end_time": "2022-06-29T13:13:31.346067",
   "environment_variables": {},
   "exception": null,
   "input_path": "__notebook__.ipynb",
   "output_path": "__notebook__.ipynb",
   "parameters": {},
   "start_time": "2022-06-29T13:13:15.944822",
   "version": "2.3.4"
  }
 },
 "nbformat": 4,
 "nbformat_minor": 5
}
