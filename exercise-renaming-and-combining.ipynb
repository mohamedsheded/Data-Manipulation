{
 "cells": [
  {
   "cell_type": "markdown",
   "id": "d5a00c18",
   "metadata": {
    "papermill": {
     "duration": 0.006965,
     "end_time": "2022-06-29T13:35:19.399189",
     "exception": false,
     "start_time": "2022-06-29T13:35:19.392224",
     "status": "completed"
    },
    "tags": []
   },
   "source": [
    "**This notebook is an exercise in the [Pandas](https://www.kaggle.com/learn/pandas) course.  You can reference the tutorial at [this link](https://www.kaggle.com/residentmario/renaming-and-combining).**\n",
    "\n",
    "---\n"
   ]
  },
  {
   "cell_type": "markdown",
   "id": "7fcae626",
   "metadata": {
    "papermill": {
     "duration": 0.005734,
     "end_time": "2022-06-29T13:35:19.411079",
     "exception": false,
     "start_time": "2022-06-29T13:35:19.405345",
     "status": "completed"
    },
    "tags": []
   },
   "source": [
    "# Introduction\n",
    "\n",
    "Run the following cell to load your data and some utility functions."
   ]
  },
  {
   "cell_type": "code",
   "execution_count": 1,
   "id": "627f89fa",
   "metadata": {
    "execution": {
     "iopub.execute_input": "2022-06-29T13:35:19.425281Z",
     "iopub.status.busy": "2022-06-29T13:35:19.424809Z",
     "iopub.status.idle": "2022-06-29T13:35:23.452898Z",
     "shell.execute_reply": "2022-06-29T13:35:23.451328Z"
    },
    "papermill": {
     "duration": 4.039265,
     "end_time": "2022-06-29T13:35:23.456338",
     "exception": false,
     "start_time": "2022-06-29T13:35:19.417073",
     "status": "completed"
    },
    "tags": []
   },
   "outputs": [
    {
     "name": "stdout",
     "output_type": "stream",
     "text": [
      "Setup complete.\n"
     ]
    }
   ],
   "source": [
    "import pandas as pd\n",
    "\n",
    "reviews = pd.read_csv(\"../input/wine-reviews/winemag-data-130k-v2.csv\", index_col=0)\n",
    "\n",
    "from learntools.core import binder; binder.bind(globals())\n",
    "from learntools.pandas.renaming_and_combining import *\n",
    "print(\"Setup complete.\")"
   ]
  },
  {
   "cell_type": "markdown",
   "id": "3d5563be",
   "metadata": {
    "papermill": {
     "duration": 0.005936,
     "end_time": "2022-06-29T13:35:23.468667",
     "exception": false,
     "start_time": "2022-06-29T13:35:23.462731",
     "status": "completed"
    },
    "tags": []
   },
   "source": [
    "# Exercises\n",
    "\n",
    "View the first several lines of your data by running the cell below:"
   ]
  },
  {
   "cell_type": "code",
   "execution_count": 2,
   "id": "0666e4d9",
   "metadata": {
    "execution": {
     "iopub.execute_input": "2022-06-29T13:35:23.482802Z",
     "iopub.status.busy": "2022-06-29T13:35:23.482281Z",
     "iopub.status.idle": "2022-06-29T13:35:23.510754Z",
     "shell.execute_reply": "2022-06-29T13:35:23.509411Z"
    },
    "papermill": {
     "duration": 0.038397,
     "end_time": "2022-06-29T13:35:23.513227",
     "exception": false,
     "start_time": "2022-06-29T13:35:23.474830",
     "status": "completed"
    },
    "tags": []
   },
   "outputs": [
    {
     "data": {
      "text/html": [
       "<div>\n",
       "<style scoped>\n",
       "    .dataframe tbody tr th:only-of-type {\n",
       "        vertical-align: middle;\n",
       "    }\n",
       "\n",
       "    .dataframe tbody tr th {\n",
       "        vertical-align: top;\n",
       "    }\n",
       "\n",
       "    .dataframe thead th {\n",
       "        text-align: right;\n",
       "    }\n",
       "</style>\n",
       "<table border=\"1\" class=\"dataframe\">\n",
       "  <thead>\n",
       "    <tr style=\"text-align: right;\">\n",
       "      <th></th>\n",
       "      <th>country</th>\n",
       "      <th>description</th>\n",
       "      <th>designation</th>\n",
       "      <th>points</th>\n",
       "      <th>price</th>\n",
       "      <th>province</th>\n",
       "      <th>region_1</th>\n",
       "      <th>region_2</th>\n",
       "      <th>taster_name</th>\n",
       "      <th>taster_twitter_handle</th>\n",
       "      <th>title</th>\n",
       "      <th>variety</th>\n",
       "      <th>winery</th>\n",
       "    </tr>\n",
       "  </thead>\n",
       "  <tbody>\n",
       "    <tr>\n",
       "      <th>0</th>\n",
       "      <td>Italy</td>\n",
       "      <td>Aromas include tropical fruit, broom, brimston...</td>\n",
       "      <td>Vulkà Bianco</td>\n",
       "      <td>87</td>\n",
       "      <td>NaN</td>\n",
       "      <td>Sicily &amp; Sardinia</td>\n",
       "      <td>Etna</td>\n",
       "      <td>NaN</td>\n",
       "      <td>Kerin O’Keefe</td>\n",
       "      <td>@kerinokeefe</td>\n",
       "      <td>Nicosia 2013 Vulkà Bianco  (Etna)</td>\n",
       "      <td>White Blend</td>\n",
       "      <td>Nicosia</td>\n",
       "    </tr>\n",
       "    <tr>\n",
       "      <th>1</th>\n",
       "      <td>Portugal</td>\n",
       "      <td>This is ripe and fruity, a wine that is smooth...</td>\n",
       "      <td>Avidagos</td>\n",
       "      <td>87</td>\n",
       "      <td>15.0</td>\n",
       "      <td>Douro</td>\n",
       "      <td>NaN</td>\n",
       "      <td>NaN</td>\n",
       "      <td>Roger Voss</td>\n",
       "      <td>@vossroger</td>\n",
       "      <td>Quinta dos Avidagos 2011 Avidagos Red (Douro)</td>\n",
       "      <td>Portuguese Red</td>\n",
       "      <td>Quinta dos Avidagos</td>\n",
       "    </tr>\n",
       "    <tr>\n",
       "      <th>2</th>\n",
       "      <td>US</td>\n",
       "      <td>Tart and snappy, the flavors of lime flesh and...</td>\n",
       "      <td>NaN</td>\n",
       "      <td>87</td>\n",
       "      <td>14.0</td>\n",
       "      <td>Oregon</td>\n",
       "      <td>Willamette Valley</td>\n",
       "      <td>Willamette Valley</td>\n",
       "      <td>Paul Gregutt</td>\n",
       "      <td>@paulgwine</td>\n",
       "      <td>Rainstorm 2013 Pinot Gris (Willamette Valley)</td>\n",
       "      <td>Pinot Gris</td>\n",
       "      <td>Rainstorm</td>\n",
       "    </tr>\n",
       "    <tr>\n",
       "      <th>3</th>\n",
       "      <td>US</td>\n",
       "      <td>Pineapple rind, lemon pith and orange blossom ...</td>\n",
       "      <td>Reserve Late Harvest</td>\n",
       "      <td>87</td>\n",
       "      <td>13.0</td>\n",
       "      <td>Michigan</td>\n",
       "      <td>Lake Michigan Shore</td>\n",
       "      <td>NaN</td>\n",
       "      <td>Alexander Peartree</td>\n",
       "      <td>NaN</td>\n",
       "      <td>St. Julian 2013 Reserve Late Harvest Riesling ...</td>\n",
       "      <td>Riesling</td>\n",
       "      <td>St. Julian</td>\n",
       "    </tr>\n",
       "    <tr>\n",
       "      <th>4</th>\n",
       "      <td>US</td>\n",
       "      <td>Much like the regular bottling from 2012, this...</td>\n",
       "      <td>Vintner's Reserve Wild Child Block</td>\n",
       "      <td>87</td>\n",
       "      <td>65.0</td>\n",
       "      <td>Oregon</td>\n",
       "      <td>Willamette Valley</td>\n",
       "      <td>Willamette Valley</td>\n",
       "      <td>Paul Gregutt</td>\n",
       "      <td>@paulgwine</td>\n",
       "      <td>Sweet Cheeks 2012 Vintner's Reserve Wild Child...</td>\n",
       "      <td>Pinot Noir</td>\n",
       "      <td>Sweet Cheeks</td>\n",
       "    </tr>\n",
       "  </tbody>\n",
       "</table>\n",
       "</div>"
      ],
      "text/plain": [
       "    country                                        description  \\\n",
       "0     Italy  Aromas include tropical fruit, broom, brimston...   \n",
       "1  Portugal  This is ripe and fruity, a wine that is smooth...   \n",
       "2        US  Tart and snappy, the flavors of lime flesh and...   \n",
       "3        US  Pineapple rind, lemon pith and orange blossom ...   \n",
       "4        US  Much like the regular bottling from 2012, this...   \n",
       "\n",
       "                          designation  points  price           province  \\\n",
       "0                        Vulkà Bianco      87    NaN  Sicily & Sardinia   \n",
       "1                            Avidagos      87   15.0              Douro   \n",
       "2                                 NaN      87   14.0             Oregon   \n",
       "3                Reserve Late Harvest      87   13.0           Michigan   \n",
       "4  Vintner's Reserve Wild Child Block      87   65.0             Oregon   \n",
       "\n",
       "              region_1           region_2         taster_name  \\\n",
       "0                 Etna                NaN       Kerin O’Keefe   \n",
       "1                  NaN                NaN          Roger Voss   \n",
       "2    Willamette Valley  Willamette Valley        Paul Gregutt   \n",
       "3  Lake Michigan Shore                NaN  Alexander Peartree   \n",
       "4    Willamette Valley  Willamette Valley        Paul Gregutt   \n",
       "\n",
       "  taster_twitter_handle                                              title  \\\n",
       "0          @kerinokeefe                  Nicosia 2013 Vulkà Bianco  (Etna)   \n",
       "1            @vossroger      Quinta dos Avidagos 2011 Avidagos Red (Douro)   \n",
       "2           @paulgwine       Rainstorm 2013 Pinot Gris (Willamette Valley)   \n",
       "3                   NaN  St. Julian 2013 Reserve Late Harvest Riesling ...   \n",
       "4           @paulgwine   Sweet Cheeks 2012 Vintner's Reserve Wild Child...   \n",
       "\n",
       "          variety               winery  \n",
       "0     White Blend              Nicosia  \n",
       "1  Portuguese Red  Quinta dos Avidagos  \n",
       "2      Pinot Gris            Rainstorm  \n",
       "3        Riesling           St. Julian  \n",
       "4      Pinot Noir         Sweet Cheeks  "
      ]
     },
     "execution_count": 2,
     "metadata": {},
     "output_type": "execute_result"
    }
   ],
   "source": [
    "reviews.head()"
   ]
  },
  {
   "cell_type": "markdown",
   "id": "700aa821",
   "metadata": {
    "papermill": {
     "duration": 0.006339,
     "end_time": "2022-06-29T13:35:23.526280",
     "exception": false,
     "start_time": "2022-06-29T13:35:23.519941",
     "status": "completed"
    },
    "tags": []
   },
   "source": [
    "## 1.\n",
    "`region_1` and `region_2` are pretty uninformative names for locale columns in the dataset. Create a copy of `reviews` with these columns renamed to `region` and `locale`, respectively."
   ]
  },
  {
   "cell_type": "code",
   "execution_count": 3,
   "id": "021b9fa8",
   "metadata": {
    "execution": {
     "iopub.execute_input": "2022-06-29T13:35:23.541156Z",
     "iopub.status.busy": "2022-06-29T13:35:23.540754Z",
     "iopub.status.idle": "2022-06-29T13:35:23.576247Z",
     "shell.execute_reply": "2022-06-29T13:35:23.574894Z"
    },
    "papermill": {
     "duration": 0.045898,
     "end_time": "2022-06-29T13:35:23.578757",
     "exception": false,
     "start_time": "2022-06-29T13:35:23.532859",
     "status": "completed"
    },
    "tags": []
   },
   "outputs": [
    {
     "data": {
      "application/javascript": [
       "parent.postMessage({\"jupyterEvent\": \"custom.exercise_interaction\", \"data\": {\"outcomeType\": 1, \"valueTowardsCompletion\": 0.25, \"interactionType\": 1, \"questionType\": 1, \"questionId\": \"1_RenameCols\", \"learnToolsVersion\": \"0.3.4\", \"failureMessage\": \"\", \"exceptionClass\": \"\", \"trace\": \"\"}}, \"*\")"
      ],
      "text/plain": [
       "<IPython.core.display.Javascript object>"
      ]
     },
     "metadata": {},
     "output_type": "display_data"
    },
    {
     "data": {
      "text/markdown": [
       "<span style=\"color:#33cc33\">Correct</span>"
      ],
      "text/plain": [
       "Correct"
      ]
     },
     "metadata": {},
     "output_type": "display_data"
    }
   ],
   "source": [
    "# Your code here\n",
    "renamed = reviews.rename(columns={'region_1':'region','region_2':'locale'})\n",
    "\n",
    "# Check your answer\n",
    "q1.check()"
   ]
  },
  {
   "cell_type": "code",
   "execution_count": 4,
   "id": "26a68130",
   "metadata": {
    "execution": {
     "iopub.execute_input": "2022-06-29T13:35:23.595288Z",
     "iopub.status.busy": "2022-06-29T13:35:23.594869Z",
     "iopub.status.idle": "2022-06-29T13:35:23.600414Z",
     "shell.execute_reply": "2022-06-29T13:35:23.598936Z"
    },
    "papermill": {
     "duration": 0.016834,
     "end_time": "2022-06-29T13:35:23.603010",
     "exception": false,
     "start_time": "2022-06-29T13:35:23.586176",
     "status": "completed"
    },
    "tags": []
   },
   "outputs": [],
   "source": [
    "#q1.hint()\n",
    "#q1.solution()"
   ]
  },
  {
   "cell_type": "markdown",
   "id": "78b639ca",
   "metadata": {
    "papermill": {
     "duration": 0.006727,
     "end_time": "2022-06-29T13:35:23.616902",
     "exception": false,
     "start_time": "2022-06-29T13:35:23.610175",
     "status": "completed"
    },
    "tags": []
   },
   "source": [
    "## 2.\n",
    "Set the index name in the dataset to `wines`."
   ]
  },
  {
   "cell_type": "code",
   "execution_count": 5,
   "id": "042b5164",
   "metadata": {
    "execution": {
     "iopub.execute_input": "2022-06-29T13:35:23.632910Z",
     "iopub.status.busy": "2022-06-29T13:35:23.632486Z",
     "iopub.status.idle": "2022-06-29T13:35:23.666514Z",
     "shell.execute_reply": "2022-06-29T13:35:23.665216Z"
    },
    "papermill": {
     "duration": 0.045169,
     "end_time": "2022-06-29T13:35:23.669207",
     "exception": false,
     "start_time": "2022-06-29T13:35:23.624038",
     "status": "completed"
    },
    "tags": []
   },
   "outputs": [
    {
     "data": {
      "application/javascript": [
       "parent.postMessage({\"jupyterEvent\": \"custom.exercise_interaction\", \"data\": {\"outcomeType\": 1, \"valueTowardsCompletion\": 0.25, \"interactionType\": 1, \"questionType\": 1, \"questionId\": \"2_RenameIndex\", \"learnToolsVersion\": \"0.3.4\", \"failureMessage\": \"\", \"exceptionClass\": \"\", \"trace\": \"\"}}, \"*\")"
      ],
      "text/plain": [
       "<IPython.core.display.Javascript object>"
      ]
     },
     "metadata": {},
     "output_type": "display_data"
    },
    {
     "data": {
      "text/markdown": [
       "<span style=\"color:#33cc33\">Correct</span>"
      ],
      "text/plain": [
       "Correct"
      ]
     },
     "metadata": {},
     "output_type": "display_data"
    }
   ],
   "source": [
    "reindexed = reviews.rename_axis('wines',axis='rows')\n",
    "\n",
    "# Check your answer\n",
    "q2.check()"
   ]
  },
  {
   "cell_type": "code",
   "execution_count": 6,
   "id": "91abb53d",
   "metadata": {
    "execution": {
     "iopub.execute_input": "2022-06-29T13:35:23.685394Z",
     "iopub.status.busy": "2022-06-29T13:35:23.685000Z",
     "iopub.status.idle": "2022-06-29T13:35:23.695197Z",
     "shell.execute_reply": "2022-06-29T13:35:23.693569Z"
    },
    "papermill": {
     "duration": 0.021561,
     "end_time": "2022-06-29T13:35:23.697944",
     "exception": false,
     "start_time": "2022-06-29T13:35:23.676383",
     "status": "completed"
    },
    "tags": []
   },
   "outputs": [
    {
     "data": {
      "application/javascript": [
       "parent.postMessage({\"jupyterEvent\": \"custom.exercise_interaction\", \"data\": {\"interactionType\": 3, \"questionType\": 1, \"questionId\": \"2_RenameIndex\", \"learnToolsVersion\": \"0.3.4\", \"valueTowardsCompletion\": 0.0, \"failureMessage\": \"\", \"exceptionClass\": \"\", \"trace\": \"\", \"outcomeType\": 4}}, \"*\")"
      ],
      "text/plain": [
       "<IPython.core.display.Javascript object>"
      ]
     },
     "metadata": {},
     "output_type": "display_data"
    },
    {
     "data": {
      "text/markdown": [
       "<span style=\"color:#33cc99\">Solution:</span> \n",
       "```python\n",
       "reindexed = reviews.rename_axis('wines', axis='rows')\n",
       "```"
      ],
      "text/plain": [
       "Solution: \n",
       "```python\n",
       "reindexed = reviews.rename_axis('wines', axis='rows')\n",
       "```"
      ]
     },
     "metadata": {},
     "output_type": "display_data"
    }
   ],
   "source": [
    "#q2.hint()\n",
    "q2.solution()"
   ]
  },
  {
   "cell_type": "markdown",
   "id": "28ffe1d6",
   "metadata": {
    "papermill": {
     "duration": 0.007054,
     "end_time": "2022-06-29T13:35:23.712820",
     "exception": false,
     "start_time": "2022-06-29T13:35:23.705766",
     "status": "completed"
    },
    "tags": []
   },
   "source": [
    "## 3.\n",
    "The [Things on Reddit](https://www.kaggle.com/residentmario/things-on-reddit/data) dataset includes product links from a selection of top-ranked forums (\"subreddits\") on reddit.com. Run the cell below to load a dataframe of products mentioned on the */r/gaming* subreddit and another dataframe for products mentioned on the *r//movies* subreddit."
   ]
  },
  {
   "cell_type": "code",
   "execution_count": 7,
   "id": "ec2d792d",
   "metadata": {
    "execution": {
     "iopub.execute_input": "2022-06-29T13:35:23.729420Z",
     "iopub.status.busy": "2022-06-29T13:35:23.728608Z",
     "iopub.status.idle": "2022-06-29T13:35:23.744734Z",
     "shell.execute_reply": "2022-06-29T13:35:23.743447Z"
    },
    "papermill": {
     "duration": 0.027307,
     "end_time": "2022-06-29T13:35:23.747458",
     "exception": false,
     "start_time": "2022-06-29T13:35:23.720151",
     "status": "completed"
    },
    "tags": []
   },
   "outputs": [],
   "source": [
    "gaming_products = pd.read_csv(\"../input/things-on-reddit/top-things/top-things/reddits/g/gaming.csv\")\n",
    "gaming_products['subreddit'] = \"r/gaming\"\n",
    "movie_products = pd.read_csv(\"../input/things-on-reddit/top-things/top-things/reddits/m/movies.csv\")\n",
    "movie_products['subreddit'] = \"r/movies\""
   ]
  },
  {
   "cell_type": "markdown",
   "id": "efc11213",
   "metadata": {
    "papermill": {
     "duration": 0.007038,
     "end_time": "2022-06-29T13:35:23.762140",
     "exception": false,
     "start_time": "2022-06-29T13:35:23.755102",
     "status": "completed"
    },
    "tags": []
   },
   "source": [
    "Create a `DataFrame` of products mentioned on *either* subreddit."
   ]
  },
  {
   "cell_type": "code",
   "execution_count": 8,
   "id": "279e5735",
   "metadata": {
    "execution": {
     "iopub.execute_input": "2022-06-29T13:35:23.778580Z",
     "iopub.status.busy": "2022-06-29T13:35:23.778122Z",
     "iopub.status.idle": "2022-06-29T13:35:23.794881Z",
     "shell.execute_reply": "2022-06-29T13:35:23.793569Z"
    },
    "papermill": {
     "duration": 0.028172,
     "end_time": "2022-06-29T13:35:23.797628",
     "exception": false,
     "start_time": "2022-06-29T13:35:23.769456",
     "status": "completed"
    },
    "tags": []
   },
   "outputs": [
    {
     "data": {
      "application/javascript": [
       "parent.postMessage({\"jupyterEvent\": \"custom.exercise_interaction\", \"data\": {\"outcomeType\": 1, \"valueTowardsCompletion\": 0.25, \"interactionType\": 1, \"questionType\": 2, \"questionId\": \"3_ConcatReddit\", \"learnToolsVersion\": \"0.3.4\", \"failureMessage\": \"\", \"exceptionClass\": \"\", \"trace\": \"\"}}, \"*\")"
      ],
      "text/plain": [
       "<IPython.core.display.Javascript object>"
      ]
     },
     "metadata": {},
     "output_type": "display_data"
    },
    {
     "data": {
      "text/markdown": [
       "<span style=\"color:#33cc33\">Correct</span>"
      ],
      "text/plain": [
       "Correct"
      ]
     },
     "metadata": {},
     "output_type": "display_data"
    }
   ],
   "source": [
    "combined_products = pd.concat([gaming_products, movie_products])\n",
    "\n",
    "# Check your answer\n",
    "q3.check()"
   ]
  },
  {
   "cell_type": "code",
   "execution_count": 9,
   "id": "115d0e91",
   "metadata": {
    "execution": {
     "iopub.execute_input": "2022-06-29T13:35:23.815655Z",
     "iopub.status.busy": "2022-06-29T13:35:23.814870Z",
     "iopub.status.idle": "2022-06-29T13:35:23.819799Z",
     "shell.execute_reply": "2022-06-29T13:35:23.819000Z"
    },
    "papermill": {
     "duration": 0.016526,
     "end_time": "2022-06-29T13:35:23.822183",
     "exception": false,
     "start_time": "2022-06-29T13:35:23.805657",
     "status": "completed"
    },
    "tags": []
   },
   "outputs": [],
   "source": [
    "#q3.hint()\n",
    "#q3.solution()"
   ]
  },
  {
   "cell_type": "markdown",
   "id": "e6725635",
   "metadata": {
    "papermill": {
     "duration": 0.007297,
     "end_time": "2022-06-29T13:35:23.837620",
     "exception": false,
     "start_time": "2022-06-29T13:35:23.830323",
     "status": "completed"
    },
    "tags": []
   },
   "source": [
    "## 4.\n",
    "The [Powerlifting Database](https://www.kaggle.com/open-powerlifting/powerlifting-database) dataset on Kaggle includes one CSV table for powerlifting meets and a separate one for powerlifting competitors. Run the cell below to load these datasets into dataframes:"
   ]
  },
  {
   "cell_type": "code",
   "execution_count": 10,
   "id": "6086dfc4",
   "metadata": {
    "execution": {
     "iopub.execute_input": "2022-06-29T13:35:23.855329Z",
     "iopub.status.busy": "2022-06-29T13:35:23.854568Z",
     "iopub.status.idle": "2022-06-29T13:35:24.650990Z",
     "shell.execute_reply": "2022-06-29T13:35:24.649594Z"
    },
    "papermill": {
     "duration": 0.808648,
     "end_time": "2022-06-29T13:35:24.653917",
     "exception": false,
     "start_time": "2022-06-29T13:35:23.845269",
     "status": "completed"
    },
    "tags": []
   },
   "outputs": [],
   "source": [
    "powerlifting_meets = pd.read_csv(\"../input/powerlifting-database/meets.csv\")\n",
    "powerlifting_competitors = pd.read_csv(\"../input/powerlifting-database/openpowerlifting.csv\")"
   ]
  },
  {
   "cell_type": "markdown",
   "id": "0b2d7adb",
   "metadata": {
    "papermill": {
     "duration": 0.008439,
     "end_time": "2022-06-29T13:35:24.670610",
     "exception": false,
     "start_time": "2022-06-29T13:35:24.662171",
     "status": "completed"
    },
    "tags": []
   },
   "source": [
    "Both tables include references to a `MeetID`, a unique key for each meet (competition) included in the database. Using this, generate a dataset combining the two tables into one."
   ]
  },
  {
   "cell_type": "code",
   "execution_count": 11,
   "id": "5686d53c",
   "metadata": {
    "execution": {
     "iopub.execute_input": "2022-06-29T13:35:24.688608Z",
     "iopub.status.busy": "2022-06-29T13:35:24.688175Z",
     "iopub.status.idle": "2022-06-29T13:35:25.690962Z",
     "shell.execute_reply": "2022-06-29T13:35:25.689623Z"
    },
    "papermill": {
     "duration": 1.014945,
     "end_time": "2022-06-29T13:35:25.693537",
     "exception": false,
     "start_time": "2022-06-29T13:35:24.678592",
     "status": "completed"
    },
    "tags": []
   },
   "outputs": [
    {
     "data": {
      "application/javascript": [
       "parent.postMessage({\"jupyterEvent\": \"custom.exercise_interaction\", \"data\": {\"outcomeType\": 1, \"valueTowardsCompletion\": 0.25, \"interactionType\": 1, \"questionType\": 2, \"questionId\": \"4_JoinLifting\", \"learnToolsVersion\": \"0.3.4\", \"failureMessage\": \"\", \"exceptionClass\": \"\", \"trace\": \"\"}}, \"*\")"
      ],
      "text/plain": [
       "<IPython.core.display.Javascript object>"
      ]
     },
     "metadata": {},
     "output_type": "display_data"
    },
    {
     "data": {
      "text/markdown": [
       "<span style=\"color:#33cc33\">Correct</span>"
      ],
      "text/plain": [
       "Correct"
      ]
     },
     "metadata": {},
     "output_type": "display_data"
    }
   ],
   "source": [
    "powerlifting_combined = powerlifting_meets.set_index(\"MeetID\").join(powerlifting_competitors.set_index(\"MeetID\"))\n",
    "\n",
    "# Check your answer\n",
    "q4.check()"
   ]
  },
  {
   "cell_type": "code",
   "execution_count": 12,
   "id": "254fe59e",
   "metadata": {
    "execution": {
     "iopub.execute_input": "2022-06-29T13:35:25.712324Z",
     "iopub.status.busy": "2022-06-29T13:35:25.711744Z",
     "iopub.status.idle": "2022-06-29T13:35:25.715694Z",
     "shell.execute_reply": "2022-06-29T13:35:25.714628Z"
    },
    "papermill": {
     "duration": 0.016491,
     "end_time": "2022-06-29T13:35:25.718374",
     "exception": false,
     "start_time": "2022-06-29T13:35:25.701883",
     "status": "completed"
    },
    "tags": []
   },
   "outputs": [],
   "source": [
    "#q4.hint()\n",
    "#q4.solution()"
   ]
  },
  {
   "cell_type": "markdown",
   "id": "563e07c3",
   "metadata": {
    "papermill": {
     "duration": 0.007586,
     "end_time": "2022-06-29T13:35:25.734012",
     "exception": false,
     "start_time": "2022-06-29T13:35:25.726426",
     "status": "completed"
    },
    "tags": []
   },
   "source": [
    "# Congratulations!\n",
    "\n",
    "You've finished the Pandas micro-course.  Many data scientists feel efficiency with Pandas is the most useful and practical skill they have, because it allows you to progress quickly in any project you have.\n",
    "\n",
    "If you'd like to apply your new skills to examining geospatial data, you're encouraged to check out our **[Geospatial Analysis](https://www.kaggle.com/learn/geospatial-analysis)** micro-course.\n",
    "\n",
    "You can also take advantage of your Pandas skills by entering a **[Kaggle Competition](https://www.kaggle.com/competitions)** or by answering a question you find interesting using **[Kaggle Datasets](https://www.kaggle.com/datasets)**."
   ]
  },
  {
   "cell_type": "markdown",
   "id": "e1e92941",
   "metadata": {
    "papermill": {
     "duration": 0.007765,
     "end_time": "2022-06-29T13:35:25.749838",
     "exception": false,
     "start_time": "2022-06-29T13:35:25.742073",
     "status": "completed"
    },
    "tags": []
   },
   "source": [
    "---\n",
    "\n",
    "\n",
    "\n",
    "\n",
    "*Have questions or comments? Visit the [course discussion forum](https://www.kaggle.com/learn/pandas/discussion) to chat with other learners.*"
   ]
  }
 ],
 "metadata": {
  "kernelspec": {
   "display_name": "Python 3",
   "language": "python",
   "name": "python3"
  },
  "language_info": {
   "codemirror_mode": {
    "name": "ipython",
    "version": 3
   },
   "file_extension": ".py",
   "mimetype": "text/x-python",
   "name": "python",
   "nbconvert_exporter": "python",
   "pygments_lexer": "ipython3",
   "version": "3.7.12"
  },
  "papermill": {
   "default_parameters": {},
   "duration": 17.790621,
   "end_time": "2022-06-29T13:35:26.580286",
   "environment_variables": {},
   "exception": null,
   "input_path": "__notebook__.ipynb",
   "output_path": "__notebook__.ipynb",
   "parameters": {},
   "start_time": "2022-06-29T13:35:08.789665",
   "version": "2.3.4"
  }
 },
 "nbformat": 4,
 "nbformat_minor": 5
}
