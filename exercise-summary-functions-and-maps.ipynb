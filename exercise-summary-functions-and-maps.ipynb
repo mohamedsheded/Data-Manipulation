{
 "cells": [
  {
   "cell_type": "markdown",
   "id": "9d551ca6",
   "metadata": {
    "papermill": {
     "duration": 0.007994,
     "end_time": "2022-06-29T10:25:40.575329",
     "exception": false,
     "start_time": "2022-06-29T10:25:40.567335",
     "status": "completed"
    },
    "tags": []
   },
   "source": [
    "**This notebook is an exercise in the [Pandas](https://www.kaggle.com/learn/pandas) course.  You can reference the tutorial at [this link](https://www.kaggle.com/residentmario/summary-functions-and-maps).**\n",
    "\n",
    "---\n"
   ]
  },
  {
   "cell_type": "markdown",
   "id": "ec3be0cb",
   "metadata": {
    "papermill": {
     "duration": 0.007184,
     "end_time": "2022-06-29T10:25:40.589890",
     "exception": false,
     "start_time": "2022-06-29T10:25:40.582706",
     "status": "completed"
    },
    "tags": []
   },
   "source": [
    "# Introduction\n",
    "\n",
    "Now you are ready to get a deeper understanding of your data.\n",
    "\n",
    "Run the following cell to load your data and some utility functions (including code to check your answers)."
   ]
  },
  {
   "cell_type": "code",
   "execution_count": 1,
   "id": "0bfbf283",
   "metadata": {
    "execution": {
     "iopub.execute_input": "2022-06-29T10:25:40.607072Z",
     "iopub.status.busy": "2022-06-29T10:25:40.606468Z",
     "iopub.status.idle": "2022-06-29T10:25:48.717889Z",
     "shell.execute_reply": "2022-06-29T10:25:48.717013Z"
    },
    "papermill": {
     "duration": 8.124531,
     "end_time": "2022-06-29T10:25:48.721678",
     "exception": false,
     "start_time": "2022-06-29T10:25:40.597147",
     "status": "completed"
    },
    "tags": []
   },
   "outputs": [
    {
     "name": "stdout",
     "output_type": "stream",
     "text": [
      "Setup complete.\n"
     ]
    },
    {
     "data": {
      "text/html": [
       "<div>\n",
       "<style scoped>\n",
       "    .dataframe tbody tr th:only-of-type {\n",
       "        vertical-align: middle;\n",
       "    }\n",
       "\n",
       "    .dataframe tbody tr th {\n",
       "        vertical-align: top;\n",
       "    }\n",
       "\n",
       "    .dataframe thead th {\n",
       "        text-align: right;\n",
       "    }\n",
       "</style>\n",
       "<table border=\"1\" class=\"dataframe\">\n",
       "  <thead>\n",
       "    <tr style=\"text-align: right;\">\n",
       "      <th></th>\n",
       "      <th>country</th>\n",
       "      <th>description</th>\n",
       "      <th>designation</th>\n",
       "      <th>points</th>\n",
       "      <th>price</th>\n",
       "      <th>province</th>\n",
       "      <th>region_1</th>\n",
       "      <th>region_2</th>\n",
       "      <th>taster_name</th>\n",
       "      <th>taster_twitter_handle</th>\n",
       "      <th>title</th>\n",
       "      <th>variety</th>\n",
       "      <th>winery</th>\n",
       "    </tr>\n",
       "  </thead>\n",
       "  <tbody>\n",
       "    <tr>\n",
       "      <th>0</th>\n",
       "      <td>Italy</td>\n",
       "      <td>Aromas include tropical fruit, broom, brimston...</td>\n",
       "      <td>Vulkà Bianco</td>\n",
       "      <td>87</td>\n",
       "      <td>NaN</td>\n",
       "      <td>Sicily &amp; Sardinia</td>\n",
       "      <td>Etna</td>\n",
       "      <td>NaN</td>\n",
       "      <td>Kerin O’Keefe</td>\n",
       "      <td>@kerinokeefe</td>\n",
       "      <td>Nicosia 2013 Vulkà Bianco  (Etna)</td>\n",
       "      <td>White Blend</td>\n",
       "      <td>Nicosia</td>\n",
       "    </tr>\n",
       "    <tr>\n",
       "      <th>1</th>\n",
       "      <td>Portugal</td>\n",
       "      <td>This is ripe and fruity, a wine that is smooth...</td>\n",
       "      <td>Avidagos</td>\n",
       "      <td>87</td>\n",
       "      <td>15.0</td>\n",
       "      <td>Douro</td>\n",
       "      <td>NaN</td>\n",
       "      <td>NaN</td>\n",
       "      <td>Roger Voss</td>\n",
       "      <td>@vossroger</td>\n",
       "      <td>Quinta dos Avidagos 2011 Avidagos Red (Douro)</td>\n",
       "      <td>Portuguese Red</td>\n",
       "      <td>Quinta dos Avidagos</td>\n",
       "    </tr>\n",
       "    <tr>\n",
       "      <th>2</th>\n",
       "      <td>US</td>\n",
       "      <td>Tart and snappy, the flavors of lime flesh and...</td>\n",
       "      <td>NaN</td>\n",
       "      <td>87</td>\n",
       "      <td>14.0</td>\n",
       "      <td>Oregon</td>\n",
       "      <td>Willamette Valley</td>\n",
       "      <td>Willamette Valley</td>\n",
       "      <td>Paul Gregutt</td>\n",
       "      <td>@paulgwine</td>\n",
       "      <td>Rainstorm 2013 Pinot Gris (Willamette Valley)</td>\n",
       "      <td>Pinot Gris</td>\n",
       "      <td>Rainstorm</td>\n",
       "    </tr>\n",
       "    <tr>\n",
       "      <th>3</th>\n",
       "      <td>US</td>\n",
       "      <td>Pineapple rind, lemon pith and orange blossom ...</td>\n",
       "      <td>Reserve Late Harvest</td>\n",
       "      <td>87</td>\n",
       "      <td>13.0</td>\n",
       "      <td>Michigan</td>\n",
       "      <td>Lake Michigan Shore</td>\n",
       "      <td>NaN</td>\n",
       "      <td>Alexander Peartree</td>\n",
       "      <td>NaN</td>\n",
       "      <td>St. Julian 2013 Reserve Late Harvest Riesling ...</td>\n",
       "      <td>Riesling</td>\n",
       "      <td>St. Julian</td>\n",
       "    </tr>\n",
       "    <tr>\n",
       "      <th>4</th>\n",
       "      <td>US</td>\n",
       "      <td>Much like the regular bottling from 2012, this...</td>\n",
       "      <td>Vintner's Reserve Wild Child Block</td>\n",
       "      <td>87</td>\n",
       "      <td>65.0</td>\n",
       "      <td>Oregon</td>\n",
       "      <td>Willamette Valley</td>\n",
       "      <td>Willamette Valley</td>\n",
       "      <td>Paul Gregutt</td>\n",
       "      <td>@paulgwine</td>\n",
       "      <td>Sweet Cheeks 2012 Vintner's Reserve Wild Child...</td>\n",
       "      <td>Pinot Noir</td>\n",
       "      <td>Sweet Cheeks</td>\n",
       "    </tr>\n",
       "  </tbody>\n",
       "</table>\n",
       "</div>"
      ],
      "text/plain": [
       "    country                                        description  \\\n",
       "0     Italy  Aromas include tropical fruit, broom, brimston...   \n",
       "1  Portugal  This is ripe and fruity, a wine that is smooth...   \n",
       "2        US  Tart and snappy, the flavors of lime flesh and...   \n",
       "3        US  Pineapple rind, lemon pith and orange blossom ...   \n",
       "4        US  Much like the regular bottling from 2012, this...   \n",
       "\n",
       "                          designation  points  price           province  \\\n",
       "0                        Vulkà Bianco      87    NaN  Sicily & Sardinia   \n",
       "1                            Avidagos      87   15.0              Douro   \n",
       "2                                 NaN      87   14.0             Oregon   \n",
       "3                Reserve Late Harvest      87   13.0           Michigan   \n",
       "4  Vintner's Reserve Wild Child Block      87   65.0             Oregon   \n",
       "\n",
       "              region_1           region_2         taster_name  \\\n",
       "0                 Etna                NaN       Kerin O’Keefe   \n",
       "1                  NaN                NaN          Roger Voss   \n",
       "2    Willamette Valley  Willamette Valley        Paul Gregutt   \n",
       "3  Lake Michigan Shore                NaN  Alexander Peartree   \n",
       "4    Willamette Valley  Willamette Valley        Paul Gregutt   \n",
       "\n",
       "  taster_twitter_handle                                              title  \\\n",
       "0          @kerinokeefe                  Nicosia 2013 Vulkà Bianco  (Etna)   \n",
       "1            @vossroger      Quinta dos Avidagos 2011 Avidagos Red (Douro)   \n",
       "2           @paulgwine       Rainstorm 2013 Pinot Gris (Willamette Valley)   \n",
       "3                   NaN  St. Julian 2013 Reserve Late Harvest Riesling ...   \n",
       "4           @paulgwine   Sweet Cheeks 2012 Vintner's Reserve Wild Child...   \n",
       "\n",
       "          variety               winery  \n",
       "0     White Blend              Nicosia  \n",
       "1  Portuguese Red  Quinta dos Avidagos  \n",
       "2      Pinot Gris            Rainstorm  \n",
       "3        Riesling           St. Julian  \n",
       "4      Pinot Noir         Sweet Cheeks  "
      ]
     },
     "execution_count": 1,
     "metadata": {},
     "output_type": "execute_result"
    }
   ],
   "source": [
    "import pandas as pd\n",
    "pd.set_option(\"display.max_rows\", 5)\n",
    "reviews = pd.read_csv(\"../input/wine-reviews/winemag-data-130k-v2.csv\", index_col=0)\n",
    "\n",
    "from learntools.core import binder; binder.bind(globals())\n",
    "from learntools.pandas.summary_functions_and_maps import *\n",
    "print(\"Setup complete.\")\n",
    "\n",
    "reviews.head()"
   ]
  },
  {
   "cell_type": "markdown",
   "id": "89253f9e",
   "metadata": {
    "papermill": {
     "duration": 0.007846,
     "end_time": "2022-06-29T10:25:48.737745",
     "exception": false,
     "start_time": "2022-06-29T10:25:48.729899",
     "status": "completed"
    },
    "tags": []
   },
   "source": [
    "# Exercises"
   ]
  },
  {
   "cell_type": "markdown",
   "id": "5dd8412d",
   "metadata": {
    "papermill": {
     "duration": 0.007444,
     "end_time": "2022-06-29T10:25:48.752804",
     "exception": false,
     "start_time": "2022-06-29T10:25:48.745360",
     "status": "completed"
    },
    "tags": []
   },
   "source": [
    "## 1.\n",
    "\n",
    "What is the median of the `points` column in the `reviews` DataFrame?"
   ]
  },
  {
   "cell_type": "raw",
   "id": "27b1d286",
   "metadata": {
    "papermill": {
     "duration": 0.007022,
     "end_time": "2022-06-29T10:25:48.767352",
     "exception": false,
     "start_time": "2022-06-29T10:25:48.760330",
     "status": "completed"
    },
    "tags": []
   },
   "source": []
  },
  {
   "cell_type": "code",
   "execution_count": 2,
   "id": "37113f4c",
   "metadata": {
    "execution": {
     "iopub.execute_input": "2022-06-29T10:25:48.785425Z",
     "iopub.status.busy": "2022-06-29T10:25:48.784137Z",
     "iopub.status.idle": "2022-06-29T10:25:48.797085Z",
     "shell.execute_reply": "2022-06-29T10:25:48.795902Z"
    },
    "papermill": {
     "duration": 0.024479,
     "end_time": "2022-06-29T10:25:48.799562",
     "exception": false,
     "start_time": "2022-06-29T10:25:48.775083",
     "status": "completed"
    },
    "tags": []
   },
   "outputs": [
    {
     "data": {
      "application/javascript": [
       "parent.postMessage({\"jupyterEvent\": \"custom.exercise_interaction\", \"data\": {\"outcomeType\": 1, \"valueTowardsCompletion\": 0.14285714285714285, \"interactionType\": 1, \"questionType\": 1, \"questionId\": \"1_MedianPoints\", \"learnToolsVersion\": \"0.3.4\", \"failureMessage\": \"\", \"exceptionClass\": \"\", \"trace\": \"\"}}, \"*\")"
      ],
      "text/plain": [
       "<IPython.core.display.Javascript object>"
      ]
     },
     "metadata": {},
     "output_type": "display_data"
    },
    {
     "data": {
      "text/markdown": [
       "<span style=\"color:#33cc33\">Correct</span>"
      ],
      "text/plain": [
       "Correct"
      ]
     },
     "metadata": {},
     "output_type": "display_data"
    }
   ],
   "source": [
    "median_points = reviews.points.median()\n",
    "\n",
    "#Check your answer\n",
    "q1.check()"
   ]
  },
  {
   "cell_type": "code",
   "execution_count": 3,
   "id": "ff8557f3",
   "metadata": {
    "execution": {
     "iopub.execute_input": "2022-06-29T10:25:48.818300Z",
     "iopub.status.busy": "2022-06-29T10:25:48.817184Z",
     "iopub.status.idle": "2022-06-29T10:25:48.822002Z",
     "shell.execute_reply": "2022-06-29T10:25:48.820843Z"
    },
    "papermill": {
     "duration": 0.017196,
     "end_time": "2022-06-29T10:25:48.824293",
     "exception": false,
     "start_time": "2022-06-29T10:25:48.807097",
     "status": "completed"
    },
    "tags": []
   },
   "outputs": [],
   "source": [
    "#q1.hint()\n",
    "#q1.solution()"
   ]
  },
  {
   "cell_type": "markdown",
   "id": "17037604",
   "metadata": {
    "papermill": {
     "duration": 0.007593,
     "end_time": "2022-06-29T10:25:48.839885",
     "exception": false,
     "start_time": "2022-06-29T10:25:48.832292",
     "status": "completed"
    },
    "tags": []
   },
   "source": [
    "## 2. \n",
    "What countries are represented in the dataset? (Your answer should not include any duplicates.)"
   ]
  },
  {
   "cell_type": "code",
   "execution_count": 4,
   "id": "c872256a",
   "metadata": {
    "execution": {
     "iopub.execute_input": "2022-06-29T10:25:48.857702Z",
     "iopub.status.busy": "2022-06-29T10:25:48.856932Z",
     "iopub.status.idle": "2022-06-29T10:25:48.877847Z",
     "shell.execute_reply": "2022-06-29T10:25:48.876923Z"
    },
    "papermill": {
     "duration": 0.032153,
     "end_time": "2022-06-29T10:25:48.879935",
     "exception": false,
     "start_time": "2022-06-29T10:25:48.847782",
     "status": "completed"
    },
    "tags": []
   },
   "outputs": [
    {
     "data": {
      "application/javascript": [
       "parent.postMessage({\"jupyterEvent\": \"custom.exercise_interaction\", \"data\": {\"outcomeType\": 1, \"valueTowardsCompletion\": 0.14285714285714285, \"interactionType\": 1, \"questionType\": 2, \"questionId\": \"2_UniqueCountries\", \"learnToolsVersion\": \"0.3.4\", \"failureMessage\": \"\", \"exceptionClass\": \"\", \"trace\": \"\"}}, \"*\")"
      ],
      "text/plain": [
       "<IPython.core.display.Javascript object>"
      ]
     },
     "metadata": {},
     "output_type": "display_data"
    },
    {
     "data": {
      "text/markdown": [
       "<span style=\"color:#33cc33\">Correct</span>"
      ],
      "text/plain": [
       "Correct"
      ]
     },
     "metadata": {},
     "output_type": "display_data"
    }
   ],
   "source": [
    "countries = reviews.country.unique()\n",
    "\n",
    "# Check your answer\n",
    "q2.check()"
   ]
  },
  {
   "cell_type": "code",
   "execution_count": 5,
   "id": "65e0f15a",
   "metadata": {
    "execution": {
     "iopub.execute_input": "2022-06-29T10:25:48.898273Z",
     "iopub.status.busy": "2022-06-29T10:25:48.897426Z",
     "iopub.status.idle": "2022-06-29T10:25:48.902550Z",
     "shell.execute_reply": "2022-06-29T10:25:48.901652Z"
    },
    "papermill": {
     "duration": 0.017042,
     "end_time": "2022-06-29T10:25:48.904891",
     "exception": false,
     "start_time": "2022-06-29T10:25:48.887849",
     "status": "completed"
    },
    "tags": []
   },
   "outputs": [],
   "source": [
    "#q2.hint()\n",
    "#q2.solution()"
   ]
  },
  {
   "cell_type": "markdown",
   "id": "8d028c34",
   "metadata": {
    "papermill": {
     "duration": 0.007674,
     "end_time": "2022-06-29T10:25:48.921085",
     "exception": false,
     "start_time": "2022-06-29T10:25:48.913411",
     "status": "completed"
    },
    "tags": []
   },
   "source": [
    "## 3.\n",
    "How often does each country appear in the dataset? Create a Series `reviews_per_country` mapping countries to the count of reviews of wines from that country."
   ]
  },
  {
   "cell_type": "code",
   "execution_count": 6,
   "id": "cc6297b9",
   "metadata": {
    "execution": {
     "iopub.execute_input": "2022-06-29T10:25:48.939171Z",
     "iopub.status.busy": "2022-06-29T10:25:48.938411Z",
     "iopub.status.idle": "2022-06-29T10:25:48.967106Z",
     "shell.execute_reply": "2022-06-29T10:25:48.966016Z"
    },
    "papermill": {
     "duration": 0.04038,
     "end_time": "2022-06-29T10:25:48.969384",
     "exception": false,
     "start_time": "2022-06-29T10:25:48.929004",
     "status": "completed"
    },
    "tags": []
   },
   "outputs": [
    {
     "data": {
      "application/javascript": [
       "parent.postMessage({\"jupyterEvent\": \"custom.exercise_interaction\", \"data\": {\"outcomeType\": 1, \"valueTowardsCompletion\": 0.14285714285714285, \"interactionType\": 1, \"questionType\": 1, \"questionId\": \"3_ReviewsPerCountry\", \"learnToolsVersion\": \"0.3.4\", \"failureMessage\": \"\", \"exceptionClass\": \"\", \"trace\": \"\"}}, \"*\")"
      ],
      "text/plain": [
       "<IPython.core.display.Javascript object>"
      ]
     },
     "metadata": {},
     "output_type": "display_data"
    },
    {
     "data": {
      "text/markdown": [
       "<span style=\"color:#33cc33\">Correct</span>"
      ],
      "text/plain": [
       "Correct"
      ]
     },
     "metadata": {},
     "output_type": "display_data"
    }
   ],
   "source": [
    "reviews_per_country = reviews.country.value_counts()\n",
    "\n",
    "# Check your answer\n",
    "q3.check()"
   ]
  },
  {
   "cell_type": "code",
   "execution_count": 7,
   "id": "95418c9e",
   "metadata": {
    "execution": {
     "iopub.execute_input": "2022-06-29T10:25:48.988013Z",
     "iopub.status.busy": "2022-06-29T10:25:48.987206Z",
     "iopub.status.idle": "2022-06-29T10:25:48.991735Z",
     "shell.execute_reply": "2022-06-29T10:25:48.990940Z"
    },
    "papermill": {
     "duration": 0.016348,
     "end_time": "2022-06-29T10:25:48.993971",
     "exception": false,
     "start_time": "2022-06-29T10:25:48.977623",
     "status": "completed"
    },
    "tags": []
   },
   "outputs": [],
   "source": [
    "#q3.hint()\n",
    "#q3.solution()"
   ]
  },
  {
   "cell_type": "markdown",
   "id": "ec7d0b48",
   "metadata": {
    "papermill": {
     "duration": 0.007983,
     "end_time": "2022-06-29T10:25:49.010196",
     "exception": false,
     "start_time": "2022-06-29T10:25:49.002213",
     "status": "completed"
    },
    "tags": []
   },
   "source": [
    "## 4.\n",
    "Create variable `centered_price` containing a version of the `price` column with the mean price subtracted.\n",
    "\n",
    "(Note: this 'centering' transformation is a common preprocessing step before applying various machine learning algorithms.) "
   ]
  },
  {
   "cell_type": "code",
   "execution_count": 8,
   "id": "84613207",
   "metadata": {
    "execution": {
     "iopub.execute_input": "2022-06-29T10:25:49.030171Z",
     "iopub.status.busy": "2022-06-29T10:25:49.029363Z",
     "iopub.status.idle": "2022-06-29T10:25:49.123682Z",
     "shell.execute_reply": "2022-06-29T10:25:49.122449Z"
    },
    "papermill": {
     "duration": 0.106936,
     "end_time": "2022-06-29T10:25:49.126080",
     "exception": false,
     "start_time": "2022-06-29T10:25:49.019144",
     "status": "completed"
    },
    "tags": []
   },
   "outputs": [
    {
     "data": {
      "application/javascript": [
       "parent.postMessage({\"jupyterEvent\": \"custom.exercise_interaction\", \"data\": {\"outcomeType\": 1, \"valueTowardsCompletion\": 0.14285714285714285, \"interactionType\": 1, \"questionType\": 1, \"questionId\": \"4_CenteredPrice\", \"learnToolsVersion\": \"0.3.4\", \"failureMessage\": \"\", \"exceptionClass\": \"\", \"trace\": \"\"}}, \"*\")"
      ],
      "text/plain": [
       "<IPython.core.display.Javascript object>"
      ]
     },
     "metadata": {},
     "output_type": "display_data"
    },
    {
     "data": {
      "text/markdown": [
       "<span style=\"color:#33cc33\">Correct</span>"
      ],
      "text/plain": [
       "Correct"
      ]
     },
     "metadata": {},
     "output_type": "display_data"
    }
   ],
   "source": [
    "review_price_mean = reviews.price.mean()\n",
    "centered_price = reviews.price.map(lambda p: p - review_price_mean)\n",
    "\n",
    "# Check your answer\n",
    "q4.check()"
   ]
  },
  {
   "cell_type": "code",
   "execution_count": 9,
   "id": "3187394e",
   "metadata": {
    "execution": {
     "iopub.execute_input": "2022-06-29T10:25:49.145654Z",
     "iopub.status.busy": "2022-06-29T10:25:49.145265Z",
     "iopub.status.idle": "2022-06-29T10:25:49.150991Z",
     "shell.execute_reply": "2022-06-29T10:25:49.149943Z"
    },
    "papermill": {
     "duration": 0.018748,
     "end_time": "2022-06-29T10:25:49.153520",
     "exception": false,
     "start_time": "2022-06-29T10:25:49.134772",
     "status": "completed"
    },
    "tags": []
   },
   "outputs": [],
   "source": [
    "#q4.hint()\n",
    "#q4.solution()"
   ]
  },
  {
   "cell_type": "markdown",
   "id": "23544bbe",
   "metadata": {
    "papermill": {
     "duration": 0.008927,
     "end_time": "2022-06-29T10:25:49.171356",
     "exception": false,
     "start_time": "2022-06-29T10:25:49.162429",
     "status": "completed"
    },
    "tags": []
   },
   "source": [
    "## 5.\n",
    "I'm an economical wine buyer. Which wine is the \"best bargain\"? Create a variable `bargain_wine` with the title of the wine with the highest points-to-price ratio in the dataset."
   ]
  },
  {
   "cell_type": "code",
   "execution_count": 10,
   "id": "61b7685e",
   "metadata": {
    "execution": {
     "iopub.execute_input": "2022-06-29T10:25:49.191423Z",
     "iopub.status.busy": "2022-06-29T10:25:49.190683Z",
     "iopub.status.idle": "2022-06-29T10:25:49.204200Z",
     "shell.execute_reply": "2022-06-29T10:25:49.203430Z"
    },
    "papermill": {
     "duration": 0.025731,
     "end_time": "2022-06-29T10:25:49.206361",
     "exception": false,
     "start_time": "2022-06-29T10:25:49.180630",
     "status": "completed"
    },
    "tags": []
   },
   "outputs": [
    {
     "data": {
      "application/javascript": [
       "parent.postMessage({\"jupyterEvent\": \"custom.exercise_interaction\", \"data\": {\"outcomeType\": 1, \"valueTowardsCompletion\": 0.14285714285714285, \"interactionType\": 1, \"questionType\": 2, \"questionId\": \"5_BargainWine\", \"learnToolsVersion\": \"0.3.4\", \"failureMessage\": \"\", \"exceptionClass\": \"\", \"trace\": \"\"}}, \"*\")"
      ],
      "text/plain": [
       "<IPython.core.display.Javascript object>"
      ]
     },
     "metadata": {},
     "output_type": "display_data"
    },
    {
     "data": {
      "text/markdown": [
       "<span style=\"color:#33cc33\">Correct</span>"
      ],
      "text/plain": [
       "Correct"
      ]
     },
     "metadata": {},
     "output_type": "display_data"
    }
   ],
   "source": [
    "bargain_idx = (reviews.points / reviews.price).idxmax()\n",
    "bargain_wine = reviews.loc[bargain_idx, 'title']\n",
    "# Check your answer\n",
    "q5.check()\n"
   ]
  },
  {
   "cell_type": "code",
   "execution_count": 11,
   "id": "95725f8f",
   "metadata": {
    "execution": {
     "iopub.execute_input": "2022-06-29T10:25:49.226473Z",
     "iopub.status.busy": "2022-06-29T10:25:49.226030Z",
     "iopub.status.idle": "2022-06-29T10:25:49.230523Z",
     "shell.execute_reply": "2022-06-29T10:25:49.229344Z"
    },
    "papermill": {
     "duration": 0.017289,
     "end_time": "2022-06-29T10:25:49.232894",
     "exception": false,
     "start_time": "2022-06-29T10:25:49.215605",
     "status": "completed"
    },
    "tags": []
   },
   "outputs": [],
   "source": [
    "#q5.hint()\n",
    "#q5.solution()"
   ]
  },
  {
   "cell_type": "markdown",
   "id": "b378289a",
   "metadata": {
    "papermill": {
     "duration": 0.008666,
     "end_time": "2022-06-29T10:25:49.250651",
     "exception": false,
     "start_time": "2022-06-29T10:25:49.241985",
     "status": "completed"
    },
    "tags": []
   },
   "source": [
    "## 6.\n",
    "There are only so many words you can use when describing a bottle of wine. Is a wine more likely to be \"tropical\" or \"fruity\"? Create a Series `descriptor_counts` counting how many times each of these two words appears in the `description` column in the dataset. (For simplicity, let's ignore the capitalized versions of these words.)"
   ]
  },
  {
   "cell_type": "code",
   "execution_count": 12,
   "id": "5b4fb5f9",
   "metadata": {
    "execution": {
     "iopub.execute_input": "2022-06-29T10:25:49.270947Z",
     "iopub.status.busy": "2022-06-29T10:25:49.270084Z",
     "iopub.status.idle": "2022-06-29T10:25:49.426488Z",
     "shell.execute_reply": "2022-06-29T10:25:49.425317Z"
    },
    "papermill": {
     "duration": 0.169092,
     "end_time": "2022-06-29T10:25:49.428768",
     "exception": false,
     "start_time": "2022-06-29T10:25:49.259676",
     "status": "completed"
    },
    "tags": []
   },
   "outputs": [
    {
     "data": {
      "application/javascript": [
       "parent.postMessage({\"jupyterEvent\": \"custom.exercise_interaction\", \"data\": {\"outcomeType\": 1, \"valueTowardsCompletion\": 0.14285714285714285, \"interactionType\": 1, \"questionType\": 1, \"questionId\": \"6_DescriptorCounts\", \"learnToolsVersion\": \"0.3.4\", \"failureMessage\": \"\", \"exceptionClass\": \"\", \"trace\": \"\"}}, \"*\")"
      ],
      "text/plain": [
       "<IPython.core.display.Javascript object>"
      ]
     },
     "metadata": {},
     "output_type": "display_data"
    },
    {
     "data": {
      "text/markdown": [
       "<span style=\"color:#33cc33\">Correct</span>"
      ],
      "text/plain": [
       "Correct"
      ]
     },
     "metadata": {},
     "output_type": "display_data"
    }
   ],
   "source": [
    "n_trop = reviews.description.map(lambda r : \"tropical\" in r).sum()\n",
    "n_frut = reviews.description.map(lambda r : \"fruity\" in r).sum()\n",
    "descriptor_counts=pd.Series([n_trop,n_frut],index=['tropical','fruity'])\n",
    "# Check your answer\n",
    "q6.check()"
   ]
  },
  {
   "cell_type": "code",
   "execution_count": 13,
   "id": "60cef755",
   "metadata": {
    "execution": {
     "iopub.execute_input": "2022-06-29T10:25:49.449849Z",
     "iopub.status.busy": "2022-06-29T10:25:49.448622Z",
     "iopub.status.idle": "2022-06-29T10:25:49.454377Z",
     "shell.execute_reply": "2022-06-29T10:25:49.453049Z"
    },
    "papermill": {
     "duration": 0.01922,
     "end_time": "2022-06-29T10:25:49.457082",
     "exception": false,
     "start_time": "2022-06-29T10:25:49.437862",
     "status": "completed"
    },
    "tags": []
   },
   "outputs": [],
   "source": [
    "#q6.hint()\n",
    "#q6.solution()"
   ]
  },
  {
   "cell_type": "markdown",
   "id": "8bdd5a52",
   "metadata": {
    "papermill": {
     "duration": 0.009142,
     "end_time": "2022-06-29T10:25:49.475652",
     "exception": false,
     "start_time": "2022-06-29T10:25:49.466510",
     "status": "completed"
    },
    "tags": []
   },
   "source": [
    "## 7.\n",
    "We'd like to host these wine reviews on our website, but a rating system ranging from 80 to 100 points is too hard to understand - we'd like to translate them into simple star ratings. A score of 95 or higher counts as 3 stars, a score of at least 85 but less than 95 is 2 stars. Any other score is 1 star.\n",
    "\n",
    "Also, the Canadian Vintners Association bought a lot of ads on the site, so any wines from Canada should automatically get 3 stars, regardless of points.\n",
    "\n",
    "Create a series `star_ratings` with the number of stars corresponding to each review in the dataset."
   ]
  },
  {
   "cell_type": "code",
   "execution_count": 14,
   "id": "9927d8e0",
   "metadata": {
    "execution": {
     "iopub.execute_input": "2022-06-29T10:25:49.496364Z",
     "iopub.status.busy": "2022-06-29T10:25:49.495566Z",
     "iopub.status.idle": "2022-06-29T10:25:54.503653Z",
     "shell.execute_reply": "2022-06-29T10:25:54.502505Z"
    },
    "papermill": {
     "duration": 5.021139,
     "end_time": "2022-06-29T10:25:54.506030",
     "exception": false,
     "start_time": "2022-06-29T10:25:49.484891",
     "status": "completed"
    },
    "tags": []
   },
   "outputs": [
    {
     "data": {
      "application/javascript": [
       "parent.postMessage({\"jupyterEvent\": \"custom.exercise_interaction\", \"data\": {\"outcomeType\": 1, \"valueTowardsCompletion\": 0.14285714285714285, \"interactionType\": 1, \"questionType\": 1, \"questionId\": \"7_StarRatings\", \"learnToolsVersion\": \"0.3.4\", \"failureMessage\": \"\", \"exceptionClass\": \"\", \"trace\": \"\"}}, \"*\")"
      ],
      "text/plain": [
       "<IPython.core.display.Javascript object>"
      ]
     },
     "metadata": {},
     "output_type": "display_data"
    },
    {
     "data": {
      "text/markdown": [
       "<span style=\"color:#33cc33\">Correct</span>"
      ],
      "text/plain": [
       "Correct"
      ]
     },
     "metadata": {},
     "output_type": "display_data"
    }
   ],
   "source": [
    "def stars(row):\n",
    "    if row.country == \"Canada\":\n",
    "        return 3\n",
    "    elif row.points >= 95:\n",
    "        return 3\n",
    "    elif row.points >= 85:\n",
    "        return 2\n",
    "    else :\n",
    "        return 1\n",
    "    \n",
    "\n",
    "star_ratings = reviews.apply(stars,axis='columns')\n",
    "\n",
    "# Check your answer\n",
    "q7.check()"
   ]
  },
  {
   "cell_type": "code",
   "execution_count": 15,
   "id": "c14faafc",
   "metadata": {
    "execution": {
     "iopub.execute_input": "2022-06-29T10:25:54.527957Z",
     "iopub.status.busy": "2022-06-29T10:25:54.526934Z",
     "iopub.status.idle": "2022-06-29T10:25:54.533654Z",
     "shell.execute_reply": "2022-06-29T10:25:54.532442Z"
    },
    "papermill": {
     "duration": 0.020386,
     "end_time": "2022-06-29T10:25:54.536250",
     "exception": false,
     "start_time": "2022-06-29T10:25:54.515864",
     "status": "completed"
    },
    "tags": []
   },
   "outputs": [],
   "source": [
    "#q7.hint()\n",
    "#q7.solution()"
   ]
  },
  {
   "cell_type": "markdown",
   "id": "1c0407f5",
   "metadata": {
    "papermill": {
     "duration": 0.009165,
     "end_time": "2022-06-29T10:25:54.555076",
     "exception": false,
     "start_time": "2022-06-29T10:25:54.545911",
     "status": "completed"
    },
    "tags": []
   },
   "source": [
    "# Keep going\n",
    "Continue to **[grouping and sorting](https://www.kaggle.com/residentmario/grouping-and-sorting)**."
   ]
  },
  {
   "cell_type": "markdown",
   "id": "3f80a9d0",
   "metadata": {
    "papermill": {
     "duration": 0.009847,
     "end_time": "2022-06-29T10:25:54.574435",
     "exception": false,
     "start_time": "2022-06-29T10:25:54.564588",
     "status": "completed"
    },
    "tags": []
   },
   "source": [
    "---\n",
    "\n",
    "\n",
    "\n",
    "\n",
    "*Have questions or comments? Visit the [course discussion forum](https://www.kaggle.com/learn/pandas/discussion) to chat with other learners.*"
   ]
  }
 ],
 "metadata": {
  "kernelspec": {
   "display_name": "Python 3",
   "language": "python",
   "name": "python3"
  },
  "language_info": {
   "codemirror_mode": {
    "name": "ipython",
    "version": 3
   },
   "file_extension": ".py",
   "mimetype": "text/x-python",
   "name": "python",
   "nbconvert_exporter": "python",
   "pygments_lexer": "ipython3",
   "version": "3.7.12"
  },
  "papermill": {
   "default_parameters": {},
   "duration": 25.448307,
   "end_time": "2022-06-29T10:25:55.306606",
   "environment_variables": {},
   "exception": null,
   "input_path": "__notebook__.ipynb",
   "output_path": "__notebook__.ipynb",
   "parameters": {},
   "start_time": "2022-06-29T10:25:29.858299",
   "version": "2.3.4"
  }
 },
 "nbformat": 4,
 "nbformat_minor": 5
}
